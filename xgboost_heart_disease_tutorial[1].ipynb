{
 "cells": [
  {
   "cell_type": "markdown",
   "id": "d14ac6de",
   "metadata": {},
   "source": [
    "# XGBoost Classification Tutorial\n",
    "**Dataset:** Heart Disease (Cleveland subset)"
   ]
  },
  {
   "cell_type": "markdown",
   "id": "02afbefc",
   "metadata": {},
   "source": [
    "## Step 1: Import Required Libraries"
   ]
  },
  {
   "cell_type": "code",
   "execution_count": null,
   "id": "816e9392",
   "metadata": {},
   "outputs": [],
   "source": [
    "import pandas as pd\n",
    "import numpy as np\n",
    "import seaborn as sns\n",
    "import matplotlib.pyplot as plt\n",
    "\n",
    "from sklearn.model_selection import train_test_split\n",
    "from sklearn.preprocessing import LabelEncoder, StandardScaler\n",
    "from sklearn.metrics import classification_report, confusion_matrix, accuracy_score\n",
    "\n",
    "import xgboost as xgb\n",
    "import warnings\n",
    "warnings.filterwarnings('ignore')\n",
    "sns.set(style='whitegrid')"
   ]
  },
  {
   "cell_type": "markdown",
   "id": "57e95628",
   "metadata": {},
   "source": [
    "## Step 2: Load and Preview Dataset"
   ]
  },
  {
   "cell_type": "code",
   "execution_count": null,
   "id": "3c3f2158",
   "metadata": {},
   "outputs": [],
   "source": [
    "df = pd.read_csv(\"heart.csv\")\n",
    "df.head()"
   ]
  },
  {
   "cell_type": "markdown",
   "id": "50ebc5dc",
   "metadata": {},
   "source": [
    "## Step 3: Exploratory Data Analysis (EDA)"
   ]
  },
  {
   "cell_type": "markdown",
   "id": "5eb0b78d",
   "metadata": {},
   "source": [
    "### 3.1 Data Overview"
   ]
  },
  {
   "cell_type": "code",
   "execution_count": null,
   "id": "09e3cfa9",
   "metadata": {},
   "outputs": [],
   "source": [
    "df.info()"
   ]
  },
  {
   "cell_type": "markdown",
   "id": "e813365e",
   "metadata": {},
   "source": [
    "### 3.2 Missing Value Check"
   ]
  },
  {
   "cell_type": "code",
   "execution_count": null,
   "id": "678072f6",
   "metadata": {},
   "outputs": [],
   "source": [
    "df.isnull().sum()"
   ]
  },
  {
   "cell_type": "markdown",
   "id": "0cf7142a",
   "metadata": {},
   "source": [
    "### 3.3 Target Distribution"
   ]
  },
  {
   "cell_type": "code",
   "execution_count": null,
   "id": "bf042403",
   "metadata": {},
   "outputs": [],
   "source": [
    "sns.countplot(x='num', data=df, palette='pastel')\n",
    "plt.title(\"Distribution of Heart Disease Diagnosis\")\n",
    "plt.xlabel(\"Target (0 = No Disease, >0 = Disease)\")\n",
    "plt.ylabel(\"Count\")\n",
    "plt.show()"
   ]
  },
  {
   "cell_type": "markdown",
   "id": "834eb3d5",
   "metadata": {},
   "source": [
    "### 3.4 Correlation Heatmap"
   ]
  },
  {
   "cell_type": "code",
   "execution_count": null,
   "id": "f966041e",
   "metadata": {},
   "outputs": [],
   "source": [
    "plt.figure(figsize=(12, 10))\n",
    "sns.heatmap(df.corr(numeric_only=True), annot=True, cmap='coolwarm', fmt='.2f')\n",
    "plt.title(\"Feature Correlation Heatmap\")\n",
    "plt.show()"
   ]
  },
  {
   "cell_type": "markdown",
   "id": "0e71b659",
   "metadata": {},
   "source": [
    "### 3.5 Feature Distributions"
   ]
  },
  {
   "cell_type": "code",
   "execution_count": null,
   "id": "98176479",
   "metadata": {},
   "outputs": [],
   "source": [
    "features = ['age', 'trestbps', 'chol', 'thalch', 'oldpeak']\n",
    "fig, axes = plt.subplots(2, 3, figsize=(15, 8))\n",
    "for i, col in enumerate(features):\n",
    "    sns.histplot(df[col], kde=True, ax=axes[i//3][i%3])\n",
    "    axes[i//3][i%3].set_title(f'Distribution of {col}')\n",
    "plt.tight_layout()\n",
    "plt.show()"
   ]
  },
  {
   "cell_type": "markdown",
   "id": "2fad6b3f",
   "metadata": {},
   "source": [
    "## Step 4: Preprocessing"
   ]
  },
  {
   "cell_type": "code",
   "execution_count": null,
   "id": "62f36d9b",
   "metadata": {},
   "outputs": [],
   "source": [
    "df = df.drop(['id', 'dataset'], axis=1)\n",
    "df['target'] = df['num'].apply(lambda x: 1 if x > 0 else 0)\n",
    "df = df.drop('num', axis=1)\n",
    "\n",
    "categorical_cols = df.select_dtypes(include=['object', 'bool']).columns\n",
    "le = LabelEncoder()\n",
    "for col in categorical_cols:\n",
    "    df[col] = le.fit_transform(df[col].astype(str))\n",
    "\n",
    "X = df.drop('target', axis=1)\n",
    "y = df['target']\n",
    "\n",
    "scaler = StandardScaler()\n",
    "X_scaled = scaler.fit_transform(X)\n",
    "\n",
    "X_train, X_test, y_train, y_test = train_test_split(\n",
    "    X_scaled, y, test_size=0.2, random_state=42, stratify=y\n",
    ")"
   ]
  },
  {
   "cell_type": "markdown",
   "id": "a0f91dfc",
   "metadata": {},
   "source": [
    "## Step 5: Train XGBoost Classifier"
   ]
  },
  {
   "cell_type": "code",
   "execution_count": null,
   "id": "e66a30c4",
   "metadata": {},
   "outputs": [],
   "source": [
    "model = xgb.XGBClassifier(use_label_encoder=False, eval_metric='logloss', random_state=42)\n",
    "model.fit(X_train, y_train)\n",
    "y_pred = model.predict(X_test)"
   ]
  },
  {
   "cell_type": "markdown",
   "id": "f9cc1320",
   "metadata": {},
   "source": [
    "## Step 6: Evaluation Metrics"
   ]
  },
  {
   "cell_type": "code",
   "execution_count": null,
   "id": "61fa1900",
   "metadata": {},
   "outputs": [],
   "source": [
    "print(\"Accuracy:\", accuracy_score(y_test, y_pred))\n",
    "print(\"Confusion Matrix:\\n\", confusion_matrix(y_test, y_pred))\n",
    "print(\"Classification Report:\\n\", classification_report(y_test, y_pred))"
   ]
  },
  {
   "cell_type": "markdown",
   "id": "6cb57cd6",
   "metadata": {},
   "source": [
    "## Step 7: Feature Importance Plot"
   ]
  },
  {
   "cell_type": "code",
   "execution_count": null,
   "id": "0db12aff",
   "metadata": {},
   "outputs": [],
   "source": [
    "xgb.plot_importance(model, max_num_features=10, importance_type='gain', height=0.5)\n",
    "plt.title(\"Top 10 Feature Importances (Gain)\")\n",
    "plt.tight_layout()\n",
    "plt.show()"
   ]
  }
 ],
 "metadata": {},
 "nbformat": 4,
 "nbformat_minor": 5
}
